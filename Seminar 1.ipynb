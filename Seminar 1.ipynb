{
  "nbformat": 4,
  "nbformat_minor": 0,
  "metadata": {
    "kernelspec": {
      "display_name": "Python 3",
      "language": "python",
      "name": "python3"
    },
    "language_info": {
      "codemirror_mode": {
        "name": "ipython",
        "version": 3
      },
      "file_extension": ".py",
      "mimetype": "text/x-python",
      "name": "python",
      "nbconvert_exporter": "python",
      "pygments_lexer": "ipython3",
      "version": "3.8.5"
    },
    "colab": {
      "name": "Seminar 1.ipynb",
      "provenance": []
    }
  },
  "cells": [
    {
      "cell_type": "code",
      "metadata": {
        "id": "E_gc_O-CilIY",
        "outputId": "d8e3b59c-5a03-4ed3-eac0-975a4653ba11",
        "colab": {
          "base_uri": "https://localhost:8080/"
        }
      },
      "source": [
        "!pip install numpyro pymc3 numpy pandas matplotlib seaborn arviz theano scipy"
      ],
      "execution_count": 4,
      "outputs": [
        {
          "output_type": "stream",
          "text": [
            "Collecting numpyro\n",
            "\u001b[?25l  Downloading https://files.pythonhosted.org/packages/00/a6/064eedcec968207259acf06cf156c0ea9a6534328bdf7da0e768cfdb3239/numpyro-0.6.0-py3-none-any.whl (218kB)\n",
            "\u001b[K     |████████████████████████████████| 225kB 5.0MB/s \n",
            "\u001b[?25hRequirement already satisfied: pymc3 in /usr/local/lib/python3.7/dist-packages (3.11.2)\n",
            "Requirement already satisfied: numpy in /usr/local/lib/python3.7/dist-packages (1.19.5)\n",
            "Requirement already satisfied: pandas in /usr/local/lib/python3.7/dist-packages (1.1.5)\n",
            "Requirement already satisfied: matplotlib in /usr/local/lib/python3.7/dist-packages (3.2.2)\n",
            "Requirement already satisfied: seaborn in /usr/local/lib/python3.7/dist-packages (0.11.1)\n",
            "Requirement already satisfied: arviz in /usr/local/lib/python3.7/dist-packages (0.11.2)\n",
            "Collecting theano\n",
            "\u001b[?25l  Downloading https://files.pythonhosted.org/packages/6b/97/bcd5654ba60f35f180931afabbd3b4c46c0379852f961c7a2819ff897f5d/Theano-1.0.5.tar.gz (2.8MB)\n",
            "\u001b[K     |████████████████████████████████| 2.8MB 8.3MB/s \n",
            "\u001b[?25hCollecting jaxlib==0.1.62\n",
            "\u001b[?25l  Downloading https://files.pythonhosted.org/packages/7e/75/30f1c643b7edb1309b6d748809042241737fe43127cb41754266eca79250/jaxlib-0.1.62-cp37-none-manylinux2010_x86_64.whl (35.7MB)\n",
            "\u001b[K     |████████████████████████████████| 35.7MB 90kB/s \n",
            "\u001b[?25hCollecting jax==0.2.10\n",
            "\u001b[?25l  Downloading https://files.pythonhosted.org/packages/88/9d/2862825b5eddd0df64c78b22cc0b897f0128b1c6494bf39e4849e9e0fade/jax-0.2.10.tar.gz (589kB)\n",
            "\u001b[K     |████████████████████████████████| 593kB 28.2MB/s \n",
            "\u001b[?25hRequirement already satisfied: tqdm in /usr/local/lib/python3.7/dist-packages (from numpyro) (4.41.1)\n",
            "Requirement already satisfied: dill in /usr/local/lib/python3.7/dist-packages (from pymc3) (0.3.4)\n",
            "Requirement already satisfied: fastprogress>=0.2.0 in /usr/local/lib/python3.7/dist-packages (from pymc3) (1.0.0)\n",
            "Requirement already satisfied: typing-extensions>=3.7.4 in /usr/local/lib/python3.7/dist-packages (from pymc3) (3.7.4.3)\n",
            "Requirement already satisfied: theano-pymc==1.1.2 in /usr/local/lib/python3.7/dist-packages (from pymc3) (1.1.2)\n",
            "Requirement already satisfied: scipy>=1.2.0 in /usr/local/lib/python3.7/dist-packages (from pymc3) (1.4.1)\n",
            "Requirement already satisfied: semver in /usr/local/lib/python3.7/dist-packages (from pymc3) (2.13.0)\n",
            "Requirement already satisfied: patsy>=0.5.1 in /usr/local/lib/python3.7/dist-packages (from pymc3) (0.5.1)\n",
            "Requirement already satisfied: cachetools>=4.2.1 in /usr/local/lib/python3.7/dist-packages (from pymc3) (4.2.2)\n",
            "Requirement already satisfied: pytz>=2017.2 in /usr/local/lib/python3.7/dist-packages (from pandas) (2018.9)\n",
            "Requirement already satisfied: python-dateutil>=2.7.3 in /usr/local/lib/python3.7/dist-packages (from pandas) (2.8.1)\n",
            "Requirement already satisfied: cycler>=0.10 in /usr/local/lib/python3.7/dist-packages (from matplotlib) (0.10.0)\n",
            "Requirement already satisfied: pyparsing!=2.0.4,!=2.1.2,!=2.1.6,>=2.0.1 in /usr/local/lib/python3.7/dist-packages (from matplotlib) (2.4.7)\n",
            "Requirement already satisfied: kiwisolver>=1.0.1 in /usr/local/lib/python3.7/dist-packages (from matplotlib) (1.3.1)\n",
            "Requirement already satisfied: xarray>=0.16.1 in /usr/local/lib/python3.7/dist-packages (from arviz) (0.18.2)\n",
            "Requirement already satisfied: setuptools>=38.4 in /usr/local/lib/python3.7/dist-packages (from arviz) (57.0.0)\n",
            "Requirement already satisfied: packaging in /usr/local/lib/python3.7/dist-packages (from arviz) (20.9)\n",
            "Requirement already satisfied: netcdf4 in /usr/local/lib/python3.7/dist-packages (from arviz) (1.5.6)\n",
            "Requirement already satisfied: six>=1.9.0 in /usr/local/lib/python3.7/dist-packages (from theano) (1.15.0)\n",
            "Requirement already satisfied: absl-py in /usr/local/lib/python3.7/dist-packages (from jaxlib==0.1.62->numpyro) (0.12.0)\n",
            "Requirement already satisfied: flatbuffers in /usr/local/lib/python3.7/dist-packages (from jaxlib==0.1.62->numpyro) (1.12)\n",
            "Requirement already satisfied: opt_einsum in /usr/local/lib/python3.7/dist-packages (from jax==0.2.10->numpyro) (3.3.0)\n",
            "Requirement already satisfied: filelock in /usr/local/lib/python3.7/dist-packages (from theano-pymc==1.1.2->pymc3) (3.0.12)\n",
            "Requirement already satisfied: cftime in /usr/local/lib/python3.7/dist-packages (from netcdf4->arviz) (1.5.0)\n",
            "Building wheels for collected packages: theano, jax\n",
            "  Building wheel for theano (setup.py) ... \u001b[?25l\u001b[?25hdone\n",
            "  Created wheel for theano: filename=Theano-1.0.5-cp37-none-any.whl size=2668111 sha256=1108271e9d622c6d78f160c827b535f9da78379faaa787bd856522a1b2194714\n",
            "  Stored in directory: /root/.cache/pip/wheels/89/40/74/3a0b7d937890c66c4373120117ebf4ba99f4889b4a0a6a810c\n",
            "  Building wheel for jax (setup.py) ... \u001b[?25l\u001b[?25hdone\n",
            "  Created wheel for jax: filename=jax-0.2.10-cp37-none-any.whl size=679776 sha256=a4e4789d934bee2c8b1fe8ccfcc22b13d5c328fd05dfd4ad6770a333abe78661\n",
            "  Stored in directory: /root/.cache/pip/wheels/44/ea/ac/3be3bc19ee3b62f6fe1561eb6df1199284bb6bab819c1befa4\n",
            "Successfully built theano jax\n",
            "Installing collected packages: jaxlib, jax, numpyro, theano\n",
            "  Found existing installation: jaxlib 0.1.66+cuda110\n",
            "    Uninstalling jaxlib-0.1.66+cuda110:\n",
            "      Successfully uninstalled jaxlib-0.1.66+cuda110\n",
            "  Found existing installation: jax 0.2.13\n",
            "    Uninstalling jax-0.2.13:\n",
            "      Successfully uninstalled jax-0.2.13\n",
            "Successfully installed jax-0.2.10 jaxlib-0.1.62 numpyro-0.6.0 theano-1.0.5\n"
          ],
          "name": "stdout"
        }
      ]
    },
    {
      "cell_type": "code",
      "metadata": {
        "id": "C_W-oqulmryq"
      },
      "source": [
        "from IPython.core.interactiveshell import InteractiveShell\n",
        "InteractiveShell.ast_node_interactivity = \"all\""
      ],
      "execution_count": 10,
      "outputs": []
    },
    {
      "cell_type": "code",
      "metadata": {
        "id": "AmJyU-XTjYgR"
      },
      "source": [
        "import numpy as np\n",
        "import pandas as pd\n",
        "import matplotlib.pyplot as plt\n",
        "import seaborn as sns\n",
        "sns.set()\n",
        "from scipy import stats"
      ],
      "execution_count": 6,
      "outputs": []
    },
    {
      "cell_type": "code",
      "metadata": {
        "id": "bfjgLtkIjdve"
      },
      "source": [
        "import jax.numpy as jnp\n",
        "import jax\n",
        "from jax import random, vmap\n",
        "from jax.scipy.special import logsumexp"
      ],
      "execution_count": 7,
      "outputs": []
    },
    {
      "cell_type": "code",
      "metadata": {
        "id": "2pVcwqM6jg7E"
      },
      "source": [
        "import numpyro\n",
        "from numpyro.diagnostics import hpdi\n",
        "import numpyro.distributions as dist\n",
        "from numpyro import handlers\n",
        "from numpyro.infer import MCMC, NUTS"
      ],
      "execution_count": 8,
      "outputs": []
    },
    {
      "cell_type": "markdown",
      "metadata": {
        "id": "w24BHcDYjyvH"
      },
      "source": [
        "Вспомним формулу Байеса:\n",
        "$$\n",
        "p(\\theta | x) = \\dfrac{p(x | \\theta)p(\\theta)}{p(x)}\n",
        "$$"
      ]
    },
    {
      "cell_type": "markdown",
      "metadata": {
        "id": "znpmxzxckKbd"
      },
      "source": [
        "Простой дискретный пример.\n",
        "\n",
        "В Небольшом пруду водятся караси и щуки, причём согласно поверью, в любой момент времени доля карасей в Небольшом пруду может равновероятно быть либо $1/3$, либо $2/3$ в зависимости от погодных условий. Исследовательница Авдотья вылавливает десять рыб подряд. Оказалось, что в полученной выборке шесть щук и четыре карася.\n",
        "\n",
        "а) Найдите оценку максимального правдоподобия $\\hat{p}_{c}$, рассуждая с позиций частотного подхода.\n",
        "\n",
        "Ответ: $\\hat{p}_{c} = 4/10$\n",
        "\n",
        "б) Сделаем то же самое в рамках байесовского подхода. \n",
        "\n",
        "$$ \n",
        "p(\\theta | y)  \\propto p(y| \\theta) \\times p(\\theta)\n",
        "$$\n",
        "\n",
        "$ p(\\theta) = 1/2 $ (оба значения доли карасей равновероятны), $ p(y| \\theta) = p^x \\times (1-p)^{n-x}$. Посчитаем апостериорное распределение для обоих возможных значений $p$: "
      ]
    },
    {
      "cell_type": "code",
      "metadata": {
        "id": "5hsE7SCpj-X_",
        "outputId": "e72b4cc2-6faf-4481-ffd8-2445c82c322d",
        "colab": {
          "base_uri": "https://localhost:8080/"
        }
      },
      "source": [
        "p1 = (1/3) ** 4 * (2/3) ** 6 * (1/2)\n",
        "p2 = (2/3) ** 4 * (1/3) ** 6 * (1/2)\n",
        "print(f\"Апостериорная вероятность того, что вероятность поймать карася 1/3, составляет {p1/(p1+p2)}.\")\n",
        "print(f\"Апостериорная вероятность того, что вероятность поймать карася 2/3, составляет {p2/(p1+p2)}.\")"
      ],
      "execution_count": 16,
      "outputs": [
        {
          "output_type": "stream",
          "text": [
            "Апостериорная вероятность того, что вероятность поймать карася 1/3, составляет 0.8.\n",
            "Апостериорная вероятность того, что вероятность поймать карася 2/3, составляет 0.2.\n"
          ],
          "name": "stdout"
        }
      ]
    },
    {
      "cell_type": "markdown",
      "metadata": {
        "id": "XZXFNQhnnQZe"
      },
      "source": [
        "Это вполне логично - 0.4 ближе к 1/3, чем к 2/3. "
      ]
    },
    {
      "cell_type": "markdown",
      "metadata": {
        "id": "DTHsS0rFnfXY"
      },
      "source": [
        "#### Задание 1. Караси и щуки.\n",
        "\n",
        "В Большом пруду водятся караси и щуки, причём согласно поверью, вероятность встретить карася равномерно распределена на отрезке от 0 до 1. Ловля рыбы в Большом пруду запрещена, поэтому исследовательница Авдотья решает провести численный эксперимент для вывода апостериорного распределения вероятности встретить карася.\n",
        "\n",
        "Сгенерируйте выборку из из 100 наблюдений, каждое из которых является идентификатором того, является ли пойманная рыба карасём."
      ]
    },
    {
      "cell_type": "code",
      "metadata": {
        "id": "IVyFk8p3mgVz",
        "outputId": "ba5190a5-352e-4ccc-e675-9bfc74211977",
        "colab": {
          "base_uri": "https://localhost:8080/"
        }
      },
      "source": [
        "y = stats.bernoulli(p=0.3).rvs(100)\n",
        "print('Доля карасей в выборке:', y.mean())\n",
        "y"
      ],
      "execution_count": 17,
      "outputs": [
        {
          "output_type": "stream",
          "text": [
            "Доля карасей в выборке: 0.29\n"
          ],
          "name": "stdout"
        },
        {
          "output_type": "execute_result",
          "data": {
            "text/plain": [
              "array([1, 1, 0, 0, 1, 1, 0, 0, 0, 0, 0, 1, 0, 0, 1, 0, 1, 0, 0, 1, 0, 0,\n",
              "       0, 0, 0, 0, 0, 0, 0, 1, 0, 1, 0, 0, 1, 0, 0, 0, 1, 0, 0, 0, 0, 0,\n",
              "       0, 0, 0, 1, 0, 0, 0, 0, 0, 1, 1, 0, 1, 0, 0, 0, 0, 0, 0, 1, 1, 0,\n",
              "       0, 0, 0, 1, 0, 0, 1, 1, 0, 1, 0, 0, 0, 0, 1, 0, 1, 0, 0, 1, 0, 0,\n",
              "       0, 0, 0, 0, 1, 0, 1, 0, 1, 0, 0, 1])"
            ]
          },
          "metadata": {
            "tags": []
          },
          "execution_count": 17
        }
      ]
    },
    {
      "cell_type": "markdown",
      "metadata": {
        "id": "gkZbJlcFoBjj"
      },
      "source": [
        "1. Задайте вероятностную модель."
      ]
    },
    {
      "cell_type": "code",
      "metadata": {
        "id": "PiJp_ctWn8U2"
      },
      "source": [
        "def model(y):\n",
        "  p = numpyro.sample('share', dist.Uniform(0, 1))\n",
        "  y_obs = numpyro.sample('obs', dist.Bernoulli(p), obs=y)"
      ],
      "execution_count": 18,
      "outputs": []
    },
    {
      "cell_type": "markdown",
      "metadata": {
        "id": "eKQtgdqpoqOH"
      },
      "source": [
        "2. Оцените модель и получите приблизительное апостериорное распределение параметров."
      ]
    },
    {
      "cell_type": "code",
      "metadata": {
        "id": "bab10VO1oonu",
        "outputId": "023694da-c592-40da-830a-a629e83f2a37",
        "colab": {
          "base_uri": "https://localhost:8080/"
        }
      },
      "source": [
        "kernel = NUTS(model) # NUTS sampler \n",
        "# 100 первых наблюдений будет выкинуто при оценке апостериорного распределения\n",
        "# оставшиеся 500 наблюдений будут сохранены\n",
        "mcmc = MCMC(kernel, 100, 1000)\n",
        "mcmc.run(random.PRNGKey(0), y = y)\n",
        "mcmc.print_summary()\n",
        "samples_1 = mcmc.get_samples()"
      ],
      "execution_count": 26,
      "outputs": [
        {
          "output_type": "stream",
          "text": [
            "sample: 100%|██████████| 1100/1100 [00:04<00:00, 255.72it/s, 3 steps of size 1.12e+00. acc. prob=0.93]\n"
          ],
          "name": "stderr"
        },
        {
          "output_type": "stream",
          "text": [
            "\n",
            "                mean       std    median      5.0%     95.0%     n_eff     r_hat\n",
            "     share      0.30      0.04      0.29      0.23      0.37    289.07      1.00\n",
            "\n",
            "Number of divergences: 0\n"
          ],
          "name": "stdout"
        }
      ]
    },
    {
      "cell_type": "code",
      "metadata": {
        "id": "x_DeJyAzoyoA",
        "outputId": "98251fcf-b382-4c1f-a77a-3fa31ad43ab8",
        "colab": {
          "base_uri": "https://localhost:8080/",
          "height": 268
        }
      },
      "source": [
        "plt.hist(samples_1['share']);"
      ],
      "execution_count": 27,
      "outputs": [
        {
          "output_type": "display_data",
          "data": {
            "image/png": "[encoded data removed]",
            "text/plain": [
              "<Figure size 432x288 with 1 Axes>"
            ]
          },
          "metadata": {
            "tags": []
          }
        }
      ]
    },
    {
      "cell_type": "code",
      "metadata": {
        "id": "AawVKspQo_nO"
      },
      "source": [
        ""
      ],
      "execution_count": null,
      "outputs": []
    }
  ]
}