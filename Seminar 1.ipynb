{
  "nbformat": 4,
  "nbformat_minor": 0,
  "metadata": {
    "kernelspec": {
      "display_name": "Python 3",
      "language": "python",
      "name": "python3"
    },
    "language_info": {
      "codemirror_mode": {
        "name": "ipython",
        "version": 3
      },
      "file_extension": ".py",
      "mimetype": "text/x-python",
      "name": "python",
      "nbconvert_exporter": "python",
      "pygments_lexer": "ipython3",
      "version": "3.8.5"
    },
    "colab": {
      "name": "Seminar 1.ipynb",
      "provenance": []
    }
  },
  "cells": [
    {
      "cell_type": "markdown",
      "metadata": {
        "id": "5GuhLQ1DXJGp"
      },
      "source": [
        "Поскольку у pymc3 какие-то проблемы с theano, на Colab пришлось поставить dev версию через github."
      ]
    },
    {
      "cell_type": "code",
      "metadata": {
        "id": "E_gc_O-CilIY",
        "colab": {
          "base_uri": "https://localhost:8080/"
        },
        "outputId": "d224c6dc-a435-4954-eeaa-77b37b718fd3"
      },
      "source": [
        "!pip install git+https://github.com/pymc-devs/pymc3 numpyro numpy pandas matplotlib seaborn arviz scipy"
      ],
      "execution_count": 14,
      "outputs": [
        {
          "output_type": "stream",
          "text": [
            "Collecting git+https://github.com/pymc-devs/pymc3\n",
            "  Cloning https://github.com/pymc-devs/pymc3 to /tmp/pip-req-build-n8csh6ai\n",
            "  Running command git clone -q https://github.com/pymc-devs/pymc3 /tmp/pip-req-build-n8csh6ai\n",
            "  Running command git submodule update --init --recursive -q\n",
            "  Installing build dependencies ... \u001b[?25l\u001b[?25hdone\n",
            "  Getting requirements to build wheel ... \u001b[?25l\u001b[?25hdone\n",
            "    Preparing wheel metadata ... \u001b[?25l\u001b[?25hdone\n",
            "Requirement already satisfied (use --upgrade to upgrade): pymc3==4.0 from git+https://github.com/pymc-devs/pymc3 in /usr/local/lib/python3.7/dist-packages\n",
            "Requirement already satisfied: numpyro in /usr/local/lib/python3.7/dist-packages (0.6.0)\n",
            "Requirement already satisfied: numpy in /usr/local/lib/python3.7/dist-packages (1.19.5)\n",
            "Requirement already satisfied: pandas in /usr/local/lib/python3.7/dist-packages (1.1.5)\n",
            "Requirement already satisfied: matplotlib in /usr/local/lib/python3.7/dist-packages (3.2.2)\n",
            "Requirement already satisfied: seaborn in /usr/local/lib/python3.7/dist-packages (0.11.1)\n",
            "Requirement already satisfied: arviz in /usr/local/lib/python3.7/dist-packages (0.11.2)\n",
            "Requirement already satisfied: scipy in /usr/local/lib/python3.7/dist-packages (1.4.1)\n",
            "Requirement already satisfied: cachetools>=4.2.1 in /usr/local/lib/python3.7/dist-packages (from pymc3==4.0) (4.2.2)\n",
            "Requirement already satisfied: patsy>=0.5.1 in /usr/local/lib/python3.7/dist-packages (from pymc3==4.0) (0.5.1)\n",
            "Requirement already satisfied: fastprogress>=0.2.0 in /usr/local/lib/python3.7/dist-packages (from pymc3==4.0) (1.0.0)\n",
            "Requirement already satisfied: typing-extensions>=3.7.4 in /usr/local/lib/python3.7/dist-packages (from pymc3==4.0) (3.7.4.3)\n",
            "Requirement already satisfied: dill in /usr/local/lib/python3.7/dist-packages (from pymc3==4.0) (0.3.4)\n",
            "Requirement already satisfied: aesara>=2.0.9 in /usr/local/lib/python3.7/dist-packages (from pymc3==4.0) (2.0.12)\n",
            "Requirement already satisfied: jaxlib==0.1.62 in /usr/local/lib/python3.7/dist-packages (from numpyro) (0.1.62)\n",
            "Requirement already satisfied: tqdm in /usr/local/lib/python3.7/dist-packages (from numpyro) (4.41.1)\n",
            "Requirement already satisfied: jax==0.2.10 in /usr/local/lib/python3.7/dist-packages (from numpyro) (0.2.10)\n",
            "Requirement already satisfied: pytz>=2017.2 in /usr/local/lib/python3.7/dist-packages (from pandas) (2018.9)\n",
            "Requirement already satisfied: python-dateutil>=2.7.3 in /usr/local/lib/python3.7/dist-packages (from pandas) (2.8.1)\n",
            "Requirement already satisfied: kiwisolver>=1.0.1 in /usr/local/lib/python3.7/dist-packages (from matplotlib) (1.3.1)\n",
            "Requirement already satisfied: pyparsing!=2.0.4,!=2.1.2,!=2.1.6,>=2.0.1 in /usr/local/lib/python3.7/dist-packages (from matplotlib) (2.4.7)\n",
            "Requirement already satisfied: cycler>=0.10 in /usr/local/lib/python3.7/dist-packages (from matplotlib) (0.10.0)\n",
            "Requirement already satisfied: netcdf4 in /usr/local/lib/python3.7/dist-packages (from arviz) (1.5.6)\n",
            "Requirement already satisfied: packaging in /usr/local/lib/python3.7/dist-packages (from arviz) (20.9)\n",
            "Requirement already satisfied: xarray>=0.16.1 in /usr/local/lib/python3.7/dist-packages (from arviz) (0.18.2)\n",
            "Requirement already satisfied: setuptools>=38.4 in /usr/local/lib/python3.7/dist-packages (from arviz) (57.0.0)\n",
            "Requirement already satisfied: six in /usr/local/lib/python3.7/dist-packages (from patsy>=0.5.1->pymc3==4.0) (1.15.0)\n",
            "Requirement already satisfied: filelock in /usr/local/lib/python3.7/dist-packages (from aesara>=2.0.9->pymc3==4.0) (3.0.12)\n",
            "Requirement already satisfied: absl-py in /usr/local/lib/python3.7/dist-packages (from jaxlib==0.1.62->numpyro) (0.12.0)\n",
            "Requirement already satisfied: flatbuffers in /usr/local/lib/python3.7/dist-packages (from jaxlib==0.1.62->numpyro) (1.12)\n",
            "Requirement already satisfied: opt-einsum in /usr/local/lib/python3.7/dist-packages (from jax==0.2.10->numpyro) (3.3.0)\n",
            "Requirement already satisfied: cftime in /usr/local/lib/python3.7/dist-packages (from netcdf4->arviz) (1.5.0)\n",
            "Building wheels for collected packages: pymc3\n",
            "  Building wheel for pymc3 (PEP 517) ... \u001b[?25l\u001b[?25hdone\n",
            "  Created wheel for pymc3: filename=pymc3-4.0-cp37-none-any.whl size=878963 sha256=9dd5a0be6853b051308ddcba6a061bd0b9d258caf8b00c042497814729b6eb18\n",
            "  Stored in directory: /tmp/pip-ephem-wheel-cache-3bvl6gmc/wheels/a1/e3/71/a696f2af0dd40bccc0ce672d616d21cc9dd90dbdd3f03242f4\n",
            "Successfully built pymc3\n"
          ],
          "name": "stdout"
        }
      ]
    },
    {
      "cell_type": "code",
      "metadata": {
        "id": "C_W-oqulmryq"
      },
      "source": [
        "from IPython.core.interactiveshell import InteractiveShell\n",
        "InteractiveShell.ast_node_interactivity = \"all\""
      ],
      "execution_count": 15,
      "outputs": []
    },
    {
      "cell_type": "code",
      "metadata": {
        "id": "AmJyU-XTjYgR"
      },
      "source": [
        "import numpy as np\n",
        "import pandas as pd\n",
        "import matplotlib.pyplot as plt\n",
        "import seaborn as sns\n",
        "import pymc3 as pm\n",
        "import arviz as az\n",
        "sns.set()\n",
        "from scipy import stats"
      ],
      "execution_count": 16,
      "outputs": []
    },
    {
      "cell_type": "code",
      "metadata": {
        "id": "bfjgLtkIjdve"
      },
      "source": [
        "import jax.numpy as jnp\n",
        "import jax\n",
        "from jax import random, vmap\n",
        "from jax.scipy.special import logsumexp"
      ],
      "execution_count": 17,
      "outputs": []
    },
    {
      "cell_type": "code",
      "metadata": {
        "id": "2pVcwqM6jg7E"
      },
      "source": [
        "import numpyro\n",
        "from numpyro.diagnostics import hpdi\n",
        "import numpyro.distributions as dist\n",
        "from numpyro import handlers\n",
        "from numpyro.infer import MCMC, NUTS"
      ],
      "execution_count": 18,
      "outputs": []
    },
    {
      "cell_type": "markdown",
      "metadata": {
        "id": "w24BHcDYjyvH"
      },
      "source": [
        "Вспомним формулу Байеса:\n",
        "$$\n",
        "p(\\theta | x) = \\dfrac{p(x | \\theta)p(\\theta)}{p(x)}\n",
        "$$"
      ]
    },
    {
      "cell_type": "markdown",
      "metadata": {
        "id": "znpmxzxckKbd"
      },
      "source": [
        "Простой дискретный пример.\n",
        "\n",
        "В Небольшом пруду водятся караси и щуки, причём согласно поверью, в любой момент времени доля карасей в Небольшом пруду может равновероятно быть либо $1/3$, либо $2/3$ в зависимости от погодных условий. Исследовательница Авдотья вылавливает десять рыб подряд. Оказалось, что в полученной выборке шесть щук и четыре карася.\n",
        "\n",
        "а) Найдите оценку максимального правдоподобия $\\hat{p}_{c}$, рассуждая с позиций частотного подхода.\n",
        "\n",
        "Ответ: $\\hat{p}_{c} = 4/10$\n",
        "\n",
        "б) Сделаем то же самое в рамках байесовского подхода. \n",
        "\n",
        "$$ \n",
        "p(\\theta | y)  \\propto p(y| \\theta) \\times p(\\theta)\n",
        "$$\n",
        "\n",
        "$ p(\\theta) = 1/2 $ (оба значения доли карасей равновероятны), $ p(y| \\theta) = p^x \\times (1-p)^{n-x}$. Посчитаем апостериорное распределение для обоих возможных значений $p$: "
      ]
    },
    {
      "cell_type": "code",
      "metadata": {
        "id": "5hsE7SCpj-X_",
        "colab": {
          "base_uri": "https://localhost:8080/"
        },
        "outputId": "0241f6a3-7029-4352-f680-a20bdf66e9b6"
      },
      "source": [
        "p1 = (1/3) ** 4 * (2/3) ** 6 * (1/2)\n",
        "p2 = (2/3) ** 4 * (1/3) ** 6 * (1/2)\n",
        "print(f\"Апостериорная вероятность того, что вероятность поймать карася 1/3, составляет {p1/(p1+p2)}.\")\n",
        "print(f\"Апостериорная вероятность того, что вероятность поймать карася 2/3, составляет {p2/(p1+p2)}.\")"
      ],
      "execution_count": 19,
      "outputs": [
        {
          "output_type": "stream",
          "text": [
            "Апостериорная вероятность того, что вероятность поймать карася 1/3, составляет 0.8.\n",
            "Апостериорная вероятность того, что вероятность поймать карася 2/3, составляет 0.2.\n"
          ],
          "name": "stdout"
        }
      ]
    },
    {
      "cell_type": "markdown",
      "metadata": {
        "id": "XZXFNQhnnQZe"
      },
      "source": [
        "Это вполне логично - 0.4 ближе к 1/3, чем к 2/3. "
      ]
    },
    {
      "cell_type": "markdown",
      "metadata": {
        "id": "DTHsS0rFnfXY"
      },
      "source": [
        "#### Задание 1. Караси и щуки.\n",
        "\n",
        "В Большом пруду водятся караси и щуки, причём согласно поверью, вероятность встретить карася равномерно распределена на отрезке от 0 до 1. Ловля рыбы в Большом пруду запрещена, поэтому исследовательница Авдотья решает провести численный эксперимент для вывода апостериорного распределения вероятности встретить карася.\n",
        "\n",
        "Сгенерируйте выборку из из 100 наблюдений, каждое из которых является идентификатором того, является ли пойманная рыба карасём."
      ]
    },
    {
      "cell_type": "code",
      "metadata": {
        "id": "IVyFk8p3mgVz",
        "colab": {
          "base_uri": "https://localhost:8080/"
        },
        "outputId": "02cce286-33fe-4084-eb99-7788ee07cdab"
      },
      "source": [
        "y = stats.bernoulli(p=0.3).rvs(100)\n",
        "print('Доля карасей в выборке:', y.mean())\n",
        "y"
      ],
      "execution_count": 20,
      "outputs": [
        {
          "output_type": "stream",
          "text": [
            "Доля карасей в выборке: 0.25\n"
          ],
          "name": "stdout"
        },
        {
          "output_type": "execute_result",
          "data": {
            "text/plain": [
              "array([0, 0, 0, 0, 0, 0, 0, 1, 0, 0, 0, 0, 0, 0, 0, 0, 0, 0, 0, 0, 0, 1,\n",
              "       1, 0, 0, 0, 1, 0, 0, 1, 1, 0, 0, 0, 0, 1, 0, 1, 0, 0, 0, 1, 0, 1,\n",
              "       0, 1, 0, 0, 0, 0, 0, 1, 1, 1, 1, 1, 0, 0, 0, 0, 0, 0, 1, 0, 0, 1,\n",
              "       0, 0, 0, 0, 1, 0, 1, 0, 0, 0, 1, 0, 0, 0, 0, 0, 0, 0, 0, 0, 0, 1,\n",
              "       0, 0, 0, 0, 0, 0, 1, 0, 1, 0, 1, 0])"
            ]
          },
          "metadata": {
            "tags": []
          },
          "execution_count": 20
        }
      ]
    },
    {
      "cell_type": "markdown",
      "metadata": {
        "id": "gkZbJlcFoBjj"
      },
      "source": [
        "1. Задайте вероятностную модель."
      ]
    },
    {
      "cell_type": "code",
      "metadata": {
        "id": "PiJp_ctWn8U2"
      },
      "source": [
        "def model(y):\n",
        "  p = numpyro.sample('share', dist.Uniform(0, 1))\n",
        "  y_obs = numpyro.sample('obs', dist.Bernoulli(p), obs=y)"
      ],
      "execution_count": 37,
      "outputs": []
    },
    {
      "cell_type": "markdown",
      "metadata": {
        "id": "eKQtgdqpoqOH"
      },
      "source": [
        "2. Оцените модель и получите приблизительное апостериорное распределение параметров."
      ]
    },
    {
      "cell_type": "code",
      "metadata": {
        "id": "bab10VO1oonu",
        "colab": {
          "base_uri": "https://localhost:8080/"
        },
        "outputId": "b972bcf7-fd2f-4ad2-d8c1-624664a93a7a"
      },
      "source": [
        "kernel = NUTS(model) # NUTS sampler \n",
        "# 100 первых наблюдений будет выкинуто при оценке апостериорного распределения\n",
        "# оставшиеся 500 наблюдений будут сохранены\n",
        "mcmc = MCMC(kernel, 100, 1000)\n",
        "mcmc.run(random.PRNGKey(123), y = y)\n",
        "mcmc.print_summary()\n",
        "samples_1 = mcmc.get_samples()"
      ],
      "execution_count": 38,
      "outputs": [
        {
          "output_type": "stream",
          "text": [
            "sample: 100%|██████████| 1100/1100 [00:03<00:00, 278.10it/s, 3 steps of size 2.19e+00. acc. prob=0.78]"
          ],
          "name": "stderr"
        },
        {
          "output_type": "stream",
          "text": [
            "\n",
            "                mean       std    median      5.0%     95.0%     n_eff     r_hat\n",
            "     share      0.26      0.04      0.25      0.19      0.33    480.98      1.00\n",
            "\n",
            "Number of divergences: 0\n"
          ],
          "name": "stdout"
        },
        {
          "output_type": "stream",
          "text": [
            "\n"
          ],
          "name": "stderr"
        }
      ]
    },
    {
      "cell_type": "code",
      "metadata": {
        "colab": {
          "base_uri": "https://localhost:8080/"
        },
        "id": "CIWJSOgKcq0g",
        "outputId": "a1b48d90-2597-4419-b5db-5adff4839c3d"
      },
      "source": [
        "print(f\"Выборочное среднее апостериорного распределения: {samples_1['share'].mean()}.\")"
      ],
      "execution_count": 40,
      "outputs": [
        {
          "output_type": "stream",
          "text": [
            "Выборочное среднее апостериорного распределения: 0.2569448947906494.\n"
          ],
          "name": "stdout"
        }
      ]
    },
    {
      "cell_type": "code",
      "metadata": {
        "id": "x_DeJyAzoyoA",
        "colab": {
          "base_uri": "https://localhost:8080/",
          "height": 322
        },
        "outputId": "dc541703-e93e-4d21-9caf-2b60f38b920d"
      },
      "source": [
        "plt.figure(figsize=(9, 5));\n",
        "plt.hist(samples_1['share'], bins=50, histtype='step', label='posterior distribution', color='blue');\n",
        "plt.hist(np.linspace(0, 1, 500), bins=50, histtype='step', label='prior distribution', color='green');\n",
        "plt.axvline(np.mean(y), color='red', label='sample estimate');\n",
        "plt.legend(loc='best');\n"
      ],
      "execution_count": 23,
      "outputs": [
        {
          "output_type": "display_data",
          "data": {
            "image/png": "[encoded data removed]",
            "text/plain": [
              "<Figure size 648x360 with 1 Axes>"
            ]
          },
          "metadata": {
            "tags": []
          }
        }
      ]
    },
    {
      "cell_type": "markdown",
      "metadata": {
        "id": "5Wxxf-hwSH__"
      },
      "source": [
        "У `numpyro` заметно сразу два минуса:\n",
        "* Нельзя нарисовать динамику по цепям для генерируемого апостериорного распределения.\n",
        "* Не считаются никакие статистики, которые говорили бы о сходимости апостериорного распределения. В этом плане `PyMC3` гораздо лучше."
      ]
    },
    {
      "cell_type": "markdown",
      "metadata": {
        "id": "-j15T9WuZduG"
      },
      "source": [
        "Попробуем то же самое сделать через PyMC3, благо синтаксис похож."
      ]
    },
    {
      "cell_type": "code",
      "metadata": {
        "colab": {
          "base_uri": "https://localhost:8080/",
          "height": 138
        },
        "id": "pSENLEg8MXJ7",
        "outputId": "18790377-7fd0-49f4-f0f3-3fcf16b0412d"
      },
      "source": [
        "ndraws = 1000\n",
        "nburn = 500\n",
        "\n",
        "with pm.Model() as model:\n",
        "  p = pm.Uniform('p', lower=0, upper=1)\n",
        "  y_obs = pm.Bernoulli('obs', p=p, observed=y)\n",
        "\n",
        "  step = pm.NUTS()\n",
        "  trace = pm.sample(ndraws,\n",
        "                    tune=nburn, \n",
        "                    discard_tuned_samples=True, \n",
        "                    step=step, \n",
        "                    random_seed=np.random.seed(123),\n",
        "                    cores=4,\n",
        "                    chains=4)"
      ],
      "execution_count": 48,
      "outputs": [
        {
          "output_type": "stream",
          "text": [
            "Multiprocess sampling (4 chains in 4 jobs)\n",
            "INFO:pymc3:Multiprocess sampling (4 chains in 4 jobs)\n",
            "NUTS: [p]\n",
            "INFO:pymc3:NUTS: [p]\n"
          ],
          "name": "stderr"
        },
        {
          "output_type": "display_data",
          "data": {
            "text/html": [
              "\n",
              "    <div>\n",
              "        <style>\n",
              "            /* Turns off some styling */\n",
              "            progress {\n",
              "                /* gets rid of default border in Firefox and Opera. */\n",
              "                border: none;\n",
              "                /* Needs to be in here for Safari polyfill so background images work as expected. */\n",
              "                background-size: auto;\n",
              "            }\n",
              "            .progress-bar-interrupted, .progress-bar-interrupted::-webkit-progress-bar {\n",
              "                background: #F44336;\n",
              "            }\n",
              "        </style>\n",
              "      <progress value='6000' class='' max='6000' style='width:300px; height:20px; vertical-align: middle;'></progress>\n",
              "      100.00% [6000/6000 00:05<00:00 Sampling 4 chains, 0 divergences]\n",
              "    </div>\n",
              "    "
            ],
            "text/plain": [
              "<IPython.core.display.HTML object>"
            ]
          },
          "metadata": {
            "tags": []
          }
        },
        {
          "output_type": "stream",
          "text": [
            "Sampling 4 chains for 500 tune and 1_000 draw iterations (2_000 + 4_000 draws total) took 6 seconds.\n",
            "INFO:pymc3:Sampling 4 chains for 500 tune and 1_000 draw iterations (2_000 + 4_000 draws total) took 6 seconds.\n"
          ],
          "name": "stderr"
        }
      ]
    },
    {
      "cell_type": "code",
      "metadata": {
        "colab": {
          "base_uri": "https://localhost:8080/",
          "height": 169
        },
        "id": "JzknNfbtacCE",
        "outputId": "254f6b31-724e-4354-c4a9-d060aac606d2"
      },
      "source": [
        "az.plot_trace(trace);"
      ],
      "execution_count": 49,
      "outputs": [
        {
          "output_type": "display_data",
          "data": {
            "image/png": "[encoded data removed]",
            "text/plain": [
              "<Figure size 864x144 with 2 Axes>"
            ]
          },
          "metadata": {
            "tags": []
          }
        }
      ]
    },
    {
      "cell_type": "markdown",
      "metadata": {
        "id": "ZaMH-nrEbhKj"
      },
      "source": [
        "В `trace` есть много чего, при желании можно вытащить, например, выборку из апостериорного распределения для каждой цепи. Вопрос: а где всё-таки указывается в модели число наблюдений из апостериорного распределения, которые мы \"сжигаем\"?"
      ]
    },
    {
      "cell_type": "code",
      "metadata": {
        "colab": {
          "base_uri": "https://localhost:8080/",
          "height": 322
        },
        "id": "eMJPR3GPa9Qr",
        "outputId": "93dea860-ab80-4754-93d6-53fb7dca4a31"
      },
      "source": [
        "plt.figure(figsize=(9, 5));\n",
        "plt.hist(np.array(trace.posterior.p).ravel(), bins=50, histtype='step', label='posterior distribution', color='blue');\n",
        "plt.hist(np.linspace(0, 1, 500), bins=50, histtype='step', label='prior distribution', color='green');\n",
        "plt.axvline(np.mean(y), color='red', label='sample estimate');\n",
        "plt.legend(loc='best');"
      ],
      "execution_count": 50,
      "outputs": [
        {
          "output_type": "display_data",
          "data": {
            "image/png": "[encoded data removed]",
            "text/plain": [
              "<Figure size 648x360 with 1 Axes>"
            ]
          },
          "metadata": {
            "tags": []
          }
        }
      ]
    },
    {
      "cell_type": "markdown",
      "metadata": {
        "id": "zMnhBWKZcOa6"
      },
      "source": [
        "Попробуем вытащить характеристики апостериорного распределения:"
      ]
    },
    {
      "cell_type": "code",
      "metadata": {
        "colab": {
          "base_uri": "https://localhost:8080/",
          "height": 80
        },
        "id": "Js_Zm6v2bL1e",
        "outputId": "136754bc-e5d4-4ca8-c594-0f9e37ca95ec"
      },
      "source": [
        "az.summary(trace)"
      ],
      "execution_count": 51,
      "outputs": [
        {
          "output_type": "execute_result",
          "data": {
            "text/html": [
              "<div>\n",
              "<style scoped>\n",
              "    .dataframe tbody tr th:only-of-type {\n",
              "        vertical-align: middle;\n",
              "    }\n",
              "\n",
              "    .dataframe tbody tr th {\n",
              "        vertical-align: top;\n",
              "    }\n",
              "\n",
              "    .dataframe thead th {\n",
              "        text-align: right;\n",
              "    }\n",
              "</style>\n",
              "<table border=\"1\" class=\"dataframe\">\n",
              "  <thead>\n",
              "    <tr style=\"text-align: right;\">\n",
              "      <th></th>\n",
              "      <th>mean</th>\n",
              "      <th>sd</th>\n",
              "      <th>hdi_3%</th>\n",
              "      <th>hdi_97%</th>\n",
              "      <th>mcse_mean</th>\n",
              "      <th>mcse_sd</th>\n",
              "      <th>ess_bulk</th>\n",
              "      <th>ess_tail</th>\n",
              "      <th>r_hat</th>\n",
              "    </tr>\n",
              "  </thead>\n",
              "  <tbody>\n",
              "    <tr>\n",
              "      <th>p</th>\n",
              "      <td>0.253</td>\n",
              "      <td>0.042</td>\n",
              "      <td>0.173</td>\n",
              "      <td>0.327</td>\n",
              "      <td>0.001</td>\n",
              "      <td>0.001</td>\n",
              "      <td>1583.0</td>\n",
              "      <td>2965.0</td>\n",
              "      <td>1.0</td>\n",
              "    </tr>\n",
              "  </tbody>\n",
              "</table>\n",
              "</div>"
            ],
            "text/plain": [
              "    mean     sd  hdi_3%  hdi_97%  mcse_mean  mcse_sd  ess_bulk  ess_tail  r_hat\n",
              "p  0.253  0.042   0.173    0.327      0.001    0.001    1583.0    2965.0    1.0"
            ]
          },
          "metadata": {
            "tags": []
          },
          "execution_count": 51
        }
      ]
    },
    {
      "cell_type": "code",
      "metadata": {
        "colab": {
          "base_uri": "https://localhost:8080/"
        },
        "id": "sR8VBT5jc5pP",
        "outputId": "4137ecf4-5526-499d-d73b-f52bba8833bd"
      },
      "source": [
        "print(f\"Выборочное среднее апостериорного распределения: {np.array(trace.posterior.p).ravel().mean()}.\")"
      ],
      "execution_count": 52,
      "outputs": [
        {
          "output_type": "stream",
          "text": [
            "Выборочное среднее апостериорного распределения: 0.25334410336328284.\n"
          ],
          "name": "stdout"
        }
      ]
    },
    {
      "cell_type": "markdown",
      "metadata": {
        "id": "BkgiZg78eqKG"
      },
      "source": [
        "Посмотрим, удалились ли те наблюдения из апостериорного распределения, которые мы хотели сжечь. Если да, то shape у trace.posterior.p = (4, 1000)."
      ]
    },
    {
      "cell_type": "code",
      "metadata": {
        "colab": {
          "base_uri": "https://localhost:8080/"
        },
        "id": "soDlaDVIcaAv",
        "outputId": "b55e155d-fd68-42d9-9723-2529d4beb2e9"
      },
      "source": [
        "np.array(trace.posterior.p).shape"
      ],
      "execution_count": 54,
      "outputs": [
        {
          "output_type": "execute_result",
          "data": {
            "text/plain": [
              "(4, 1000)"
            ]
          },
          "metadata": {
            "tags": []
          },
          "execution_count": 54
        }
      ]
    },
    {
      "cell_type": "code",
      "metadata": {
        "id": "acg2tfYyehuT"
      },
      "source": [
        ""
      ],
      "execution_count": null,
      "outputs": []
    }
  ]
}